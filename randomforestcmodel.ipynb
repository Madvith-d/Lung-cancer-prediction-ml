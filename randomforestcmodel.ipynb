{
  "cells": [
    {
      "cell_type": "code",
      "execution_count": 2,
      "metadata": {
        "colab": {
          "base_uri": "https://localhost:8080/",
          "height": 373
        },
        "id": "x657BsjuVYCE",
        "outputId": "99e83611-993c-4627-902a-87470be8dc82"
      },
      "outputs": [
        {
          "name": "stdout",
          "output_type": "stream",
          "text": [
            "    GENDER  AGE  ...  CHEST PAIN  predicted_lung_cancer\n",
            "0        M   69  ...           2                    YES\n",
            "1        M   74  ...           2                    YES\n",
            "2        F   59  ...           2                     NO\n",
            "3        M   63  ...           2                     NO\n",
            "4        F   63  ...           1                     NO\n",
            "..     ...  ...  ...         ...                    ...\n",
            "304      F   56  ...           1                    YES\n",
            "305      M   70  ...           2                    YES\n",
            "306      M   58  ...           2                    YES\n",
            "307      M   67  ...           2                    YES\n",
            "308      M   62  ...           1                    YES\n",
            "\n",
            "[309 rows x 16 columns]\n",
            "Accuracy: 99.47%\n",
            "Pecision score :  0.996309963099631\n",
            "Recall score: 1.0\n",
            "F1 score: 0.9981515711645101\n",
            "MCC score: 0.9852733396318932\n",
            "AUROC score: 0.9871794871794871\n"
          ]
        }
      ],
      "source": [
        "\n",
        "import pandas as pd\n",
        "from sklearn.ensemble import RandomForestClassifier \n",
        "from sklearn.metrics import precision_score, recall_score, f1_score, matthews_corrcoef, roc_auc_score,confusion_matrix,ConfusionMatrixDisplay\n",
        "import matplotlib.pyplot as plt\n",
        "\n",
        "\n",
        "train_data = pd.read_csv(\"survey lung cancer.csv\")\n",
        "\n",
        "\n",
        "train_data = train_data.dropna()\n",
        "\n",
        "\n",
        "X_train = train_data.drop('LUNG_CANCER', axis=1)\n",
        "y_train = train_data['LUNG_CANCER']\n",
        "\n",
        "\n",
        "X_train = pd.get_dummies(X_train, drop_first=True)\n",
        "\n",
        "\n",
        "model = RandomForestClassifier(random_state=42)\n",
        "model.fit(X_train, y_train)\n",
        "\n",
        "\n",
        "new_data = pd.read_csv(\"predict_data.csv\")\n",
        "\n",
        "\n",
        "new_data = new_data.fillna(0)\n",
        "\n",
        "\n",
        "X_new = pd.get_dummies(new_data, drop_first=True)\n",
        "\n",
        "\n",
        "X_new = X_new.reindex(columns=X_train.columns, fill_value=0)\n",
        "\n",
        "\n",
        "predictions = model.predict(X_new)\n",
        "\n",
        "\n",
        "new_data['predicted_lung_cancer'] = predictions\n",
        "\n",
        "\n",
        "print(new_data)\n",
        "new_data.to_csv(\"predictions_random_forest.csv\", index=False)\n",
        "\n",
        "predictions = pd.read_csv(\"predictions_random_forest.csv\")\n",
        "original = pd.read_csv(\"survey lung cancer.csv\")\n",
        "\n",
        "\n",
        "merged = pd.merge(\n",
        "    predictions,\n",
        "    original,\n",
        "    on=[\"GENDER\", \"AGE\", \"SMOKING\", \"YELLOW_FINGERS\", \"ANXIETY\", \"PEER_PRESSURE\",\n",
        "        \"CHRONIC DISEASE\", \"FATIGUE \", \"ALLERGY \", \"WHEEZING\", \"ALCOHOL CONSUMING\",\n",
        "        \"COUGHING\", \"SHORTNESS OF BREATH\", \"SWALLOWING DIFFICULTY\", \"CHEST PAIN\"],\n",
        "    suffixes=('_predicted', '_true')\n",
        ")\n",
        "\n",
        "\n",
        "correct = (merged['predicted_lung_cancer'] == merged['LUNG_CANCER']).sum()\n",
        "total = len(merged)\n",
        "accuracy = (correct / total) * 100\n",
        "\n",
        "print(f\"Accuracy: {accuracy:.2f}%\") \n",
        "\n",
        "pred_df = pd.read_csv(\"predictions_random_forest.csv\")\n",
        "pred_df[\"predicted_lung_cancer\"]= pred_df[\"predicted_lung_cancer\"].map({\"YES\":1,\"NO\":0})\n",
        "pred_labels= pred_df[\"predicted_lung_cancer\"]\n",
        "true_labels= train_data[\"LUNG_CANCER\"].map({\"YES\":1,\"NO\":0})\n",
        "\n",
        "precision_scr = precision_score(true_labels,pred_labels)\n",
        "print(\"Pecision score : \",precision_scr)\n",
        "\n",
        "recall_scr = recall_score(true_labels, pred_labels)\n",
        "print(\"Recall score:\", recall_scr)\n",
        "\n",
        "\n",
        "f1_scr = f1_score(true_labels,pred_labels)\n",
        "print(\"F1 score:\", f1_scr)\n",
        "\n",
        "\n",
        "\n",
        "\n",
        "mcc = matthews_corrcoef(true_labels, pred_labels)\n",
        "print(\"MCC score:\", mcc)\n",
        "\n",
        "\n",
        "\n",
        "auroc_scr = roc_auc_score(true_labels, pred_labels)\n",
        "print(\"AUROC score:\", auroc_scr)\n",
        "\n"
      ]
    },
    {
      "cell_type": "code",
      "execution_count": 4,
      "metadata": {},
      "outputs": [
        {
          "name": "stdout",
          "output_type": "stream",
          "text": [
            "Confusion Matrix:\n",
            "[[ 38   1]\n",
            " [  0 270]]\n"
          ]
        },
        {
          "data": {
            "image/png": "[encoded data removed]",
            "text/plain": [
              "<Figure size 640x480 with 2 Axes>"
            ]
          },
          "metadata": {},
          "output_type": "display_data"
        }
      ],
      "source": [
        "cm = confusion_matrix(true_labels, pred_labels)\n",
        "print(\"Confusion Matrix:\")\n",
        "print(cm)\n",
        "\n",
        "\n",
        "disp = ConfusionMatrixDisplay(confusion_matrix=cm, display_labels=[\"cancer\",\"no cancer\"])\n",
        "disp.plot(cmap=plt.cm.Blues)\n",
        "plt.title('Confusion Matrix Random Forest')\n",
        "plt.show()"
      ]
    }
  ],
  "metadata": {
    "colab": {
      "provenance": []
    },
    "kernelspec": {
      "display_name": "Python 3",
      "name": "python3"
    },
    "language_info": {
      "codemirror_mode": {
        "name": "ipython",
        "version": 3
      },
      "file_extension": ".py",
      "mimetype": "text/x-python",
      "name": "python",
      "nbconvert_exporter": "python",
      "pygments_lexer": "ipython3",
      "version": "3.13.3"
    }
  },
  "nbformat": 4,
  "nbformat_minor": 0
}
